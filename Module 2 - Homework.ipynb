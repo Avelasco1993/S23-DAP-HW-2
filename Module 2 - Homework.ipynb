{
 "cells": [
  {
   "cell_type": "markdown",
   "id": "c209b646",
   "metadata": {},
   "source": [
    "### Homework #2"
   ]
  },
  {
   "cell_type": "markdown",
   "id": "869ebfd6",
   "metadata": {},
   "source": [
    "1. Round 4.5667 to the nearest hundreth (2 decimals) using a build-in function, round()."
   ]
  },
  {
   "cell_type": "code",
   "execution_count": 1,
   "id": "123658aa",
   "metadata": {},
   "outputs": [
    {
     "data": {
      "text/plain": [
       "4.57"
      ]
     },
     "execution_count": 1,
     "metadata": {},
     "output_type": "execute_result"
    }
   ],
   "source": [
    "round(4.5667, 2)"
   ]
  },
  {
   "cell_type": "markdown",
   "id": "9d3f352c",
   "metadata": {},
   "source": [
    "2. Convert \"657\" to an integer data type"
   ]
  },
  {
   "cell_type": "code",
   "execution_count": 5,
   "id": "d5a67683",
   "metadata": {},
   "outputs": [
    {
     "data": {
      "text/plain": [
       "657"
      ]
     },
     "execution_count": 5,
     "metadata": {},
     "output_type": "execute_result"
    }
   ],
   "source": [
    "int(657)"
   ]
  },
  {
   "cell_type": "markdown",
   "id": "a36f06d4",
   "metadata": {},
   "source": [
    "3. Write a program to get two numbers from a user. Then, create a 6-digit code that is a series of randomly generated numbers between the two numbers given by the user. Print the 6-digit code so all digits are separated by a dash. "
   ]
  },
  {
   "cell_type": "code",
   "execution_count": 51,
   "id": "021c92d4",
   "metadata": {
    "scrolled": true
   },
   "outputs": [
    {
     "name": "stdout",
     "output_type": "stream",
     "text": [
      "input number 1:1\n",
      "input number 2:1000\n",
      "647-72-136-678-518-231\n"
     ]
    }
   ],
   "source": [
    "import random as rand\n",
    "\n",
    "num1 = int(input(\"input number 1:\"))\n",
    "num2 = int(input(\"input number 2:\"))\n",
    "\n",
    "a = rand.randint(num1,num2)\n",
    "b = rand.randint(num1,num2)\n",
    "c = rand.randint(num1,num2)\n",
    "d = rand.randint(num1,num2)\n",
    "e = rand.randint(num1,num2)\n",
    "f = rand.randint(num1,num2)\n",
    "\n",
    "rand.randint(num1, num2)\n",
    "print(f\"{a}-{b}-{c}-{d}-{e}-{f}\")\n",
    "\n"
   ]
  },
  {
   "cell_type": "markdown",
   "id": "ee1441a1",
   "metadata": {},
   "source": [
    "4. Write a program to remove ALL the white spaces from the following text:\n",
    "\n",
    "        Hickory, dickory, dock,     \n",
    "        The mouse ran up the clock.   \n",
    "        The clock struck one,   \n",
    "        The mouse ran down,                      \n",
    "        Hickory, dickory, dock                  "
   ]
  },
  {
   "cell_type": "code",
   "execution_count": 46,
   "id": "1a142b4d",
   "metadata": {},
   "outputs": [],
   "source": [
    "line1 = \"Hickory, dickory, dock,  \"\n",
    "line2 = \"The mouse ran up the clock.   \"\n",
    "line3 = \"The clock struck one,   \"\n",
    "line4 = \"The mouse ran down,       \"               \n",
    "line5 = \"Hickory, dickory, dock \""
   ]
  },
  {
   "cell_type": "code",
   "execution_count": 47,
   "id": "8bf680f1",
   "metadata": {},
   "outputs": [],
   "source": [
    "line1 = line1.title()\n",
    "line2 = line2.title()\n",
    "line3 = line3.title()\n",
    "line4 = line4.title()\n",
    "line5 = line5.title()"
   ]
  },
  {
   "cell_type": "code",
   "execution_count": 48,
   "id": "59d9c718",
   "metadata": {},
   "outputs": [],
   "source": [
    "line1 = line1.strip()\n",
    "line2 = line2.strip()\n",
    "line3 = line3.strip()\n",
    "line4 = line4.strip()\n",
    "line5 = line5.strip()"
   ]
  },
  {
   "cell_type": "code",
   "execution_count": 49,
   "id": "11c24618",
   "metadata": {},
   "outputs": [],
   "source": [
    "line1 = line1.replace(\" \", \"\")\n",
    "line2 = line2.replace(\" \", \"\")\n",
    "line3 = line3.replace(\" \", \"\")\n",
    "line4 = line4.replace(\" \", \"\")\n",
    "line5 = line5.replace(\" \", \"\")"
   ]
  },
  {
   "cell_type": "code",
   "execution_count": 50,
   "id": "7c5b8060",
   "metadata": {},
   "outputs": [
    {
     "name": "stdout",
     "output_type": "stream",
     "text": [
      "Hickory,Dickory,Dock,\n",
      "TheMouseRanUpTheClock.\n",
      "TheClockStruckOne,\n",
      "TheMouseRanDown,\n",
      "Hickory,Dickory,Dock\n"
     ]
    }
   ],
   "source": [
    "print (line1)\n",
    "print (line2)\n",
    "print (line3)\n",
    "print (line4)\n",
    "print (line5)\n"
   ]
  },
  {
   "cell_type": "markdown",
   "id": "72d87b5b",
   "metadata": {},
   "source": [
    "5. Write a function to calculate the miles per gallon. Get a miles driven and gallons used from a user and call your function to calculate the miles per gallon."
   ]
  },
  {
   "cell_type": "code",
   "execution_count": 63,
   "id": "27be7372",
   "metadata": {},
   "outputs": [
    {
     "name": "stdout",
     "output_type": "stream",
     "text": [
      "miles driven:100\n",
      "gallons used:25\n",
      "100.0 miles / 25.0 gallons = 4.00 miles per gallon\n"
     ]
    }
   ],
   "source": [
    "def mpg():\n",
    "    miles = float(input(\"miles driven:\"))\n",
    "    gal = float(input(\"gallons used:\"))\n",
    "    mpg = miles/gal\n",
    "    print(f\"{miles} miles / {gal} gallons = {mpg:.2f} miles per gallon\")\n",
    "    \n",
    "\n",
    "mpg()\n"
   ]
  },
  {
   "cell_type": "markdown",
   "id": "754614ea",
   "metadata": {},
   "source": [
    "---"
   ]
  },
  {
   "cell_type": "markdown",
   "id": "1f3942b8",
   "metadata": {},
   "source": [
    "6. Enhance the <b>compute()</b> function created during Module 2. Enhance the function to compute a circle's area and circumference where:\n",
    "\n",
    " - circle's area = 3.14 X (radius X radius)   \n",
    " - circle's circumference = 3.14 X diameter"
   ]
  },
  {
   "cell_type": "code",
   "execution_count": 19,
   "id": "df43daca",
   "metadata": {},
   "outputs": [
    {
     "name": "stdout",
     "output_type": "stream",
     "text": [
      "enter a radius:30\n",
      "enter a circumference:60\n",
      "the area is 2826.0\n",
      "the circumference is 188.4\n"
     ]
    }
   ],
   "source": [
    "\n",
    "def compute (area, circumference):\n",
    "    a = 3.14 * (radius * radius)\n",
    "    c = 3.14 * (2 * radius)\n",
    "    print(f\"the area is {a}\")\n",
    "    print(f\"the circumference is {c}\")\n",
    "    \n",
    "radius = int(input(\"enter a radius:\"))\n",
    "circumference = int(input(\"enter a circumference:\"))\n",
    "\n",
    "compute (radius, circumference)"
   ]
  },
  {
   "cell_type": "markdown",
   "id": "ffc18c5a",
   "metadata": {},
   "source": [
    "---"
   ]
  },
  {
   "cell_type": "markdown",
   "id": "4c5d83bb",
   "metadata": {},
   "source": [
    "7. Write a function called multiply_two() that accepts two parameters. The function should print a message like '15 * 2 = 30'.  Randomly generate two numbers between 1 and 100, then call the function with the two random numbers."
   ]
  },
  {
   "cell_type": "code",
   "execution_count": 31,
   "id": "fe5ca2dc",
   "metadata": {},
   "outputs": [
    {
     "name": "stdout",
     "output_type": "stream",
     "text": [
      "96 * 61 = 5856\n"
     ]
    }
   ],
   "source": [
    "import random as rand\n",
    "\n",
    "def multiply_two(x, y):           #these are placeholders; positional arguments\n",
    "    print(f\"{x} * {y} = {x * y}\") #these are placeholders; positional arguments\n",
    "    \n",
    "x = rand.randint(1, 100)\n",
    "y = rand.randint(1, 100)\n",
    "\n",
    "multiply_two(x, y)"
   ]
  },
  {
   "cell_type": "markdown",
   "id": "49cea94f",
   "metadata": {},
   "source": [
    "---"
   ]
  },
  {
   "cell_type": "markdown",
   "id": "36865477",
   "metadata": {},
   "source": [
    "8. Create a function for a multiplication table.  Get a number from a user and then call you function which produces a multiplication table for that number.\n",
    "The output should look something like this:\n",
    "\n",
    "        Enter a number: 3\n",
    "        3 X 1 = 3\n",
    "        3 X 2 = 6\n",
    "        3 X 3 = 9\n",
    "        3 X 4 = 12\n",
    "        3 X 5 = 15\n",
    "        3 X 6 = 18\n",
    "        3 X 7 = 21\n",
    "        3 X 8 = 24\n",
    "        3 X 9 = 27"
   ]
  },
  {
   "cell_type": "code",
   "execution_count": 32,
   "id": "b023e863",
   "metadata": {},
   "outputs": [
    {
     "name": "stdout",
     "output_type": "stream",
     "text": [
      "Enter a number: 10\n",
      "\n",
      "Multiplication Table for 10\n",
      "\n",
      "10 X 1 = 10\n",
      "10 X 2 = 20\n",
      "10 X 3 = 30\n",
      "10 X 4 = 40\n",
      "10 X 5 = 50\n",
      "10 X 6 = 60\n",
      "10 X 7 = 70\n",
      "10 X 8 = 80\n",
      "10 X 9 = 90\n"
     ]
    }
   ],
   "source": [
    "def mult_table(x):\n",
    "    print(f\"\\nMultiplication Table for {x}\\n\")\n",
    "    print(f\"{x} X 1 = {x * 1}\")\n",
    "    print(f\"{x} X 2 = {x * 2}\")\n",
    "    print(f\"{x} X 3 = {x * 3}\")\n",
    "    print(f\"{x} X 4 = {x * 4}\")\n",
    "    print(f\"{x} X 5 = {x * 5}\")\n",
    "    print(f\"{x} X 6 = {x * 6}\")\n",
    "    print(f\"{x} X 7 = {x * 7}\")\n",
    "    print(f\"{x} X 8 = {x * 8}\")\n",
    "    print(f\"{x} X 9 = {x * 9}\")\n",
    "    \n",
    "num = int(input(\"Enter a number: \"))\n",
    "\n",
    "mult_table(num)"
   ]
  }
 ],
 "metadata": {
  "kernelspec": {
   "display_name": "Python 3 (ipykernel)",
   "language": "python",
   "name": "python3"
  },
  "language_info": {
   "codemirror_mode": {
    "name": "ipython",
    "version": 3
   },
   "file_extension": ".py",
   "mimetype": "text/x-python",
   "name": "python",
   "nbconvert_exporter": "python",
   "pygments_lexer": "ipython3",
   "version": "3.9.13"
  }
 },
 "nbformat": 4,
 "nbformat_minor": 5
}
